{
 "cells": [
  {
   "cell_type": "markdown",
   "id": "c4f6ad0d",
   "metadata": {},
   "source": [
    "# Разработка Рейтинговой PD-модели для Контрагентов сегмента \"Крупные и Крупнейшие заёмщики (КиК)\" (BIGTOP)\n",
    "\n",
    "<br>\n",
    "\n",
    "# Содержание <a name = content></a>\n",
    "  \n",
    "\n",
    "- [<span style=\"color:red\">**Версионность**</span>](#versions)\n",
    "- [<span style=\"color:red\">**Конфигурационные файлы**</span>](#config_files)\n",
    "\n",
    "<br>\n",
    "\n",
    "- [**Импорт библиотек + Словарь**](#initial_import)\n",
    "    - [Master Scale](#initial_import__MS)\n",
    "- [Определение функций](#functions)\n",
    "\n",
    "<br>\n",
    "\n",
    "- [**Загрузка финансовой отчетности**](#upload_financials)\n",
    "\n",
    "- [**Данные сегмента**](#upload_segment)"
   ]
  },
  {
   "cell_type": "markdown",
   "id": "160ccada",
   "metadata": {},
   "source": [
    "<br>\n",
    "\n",
    "# Версионность <a name = versions></a>\n",
    "\n",
    "- 0.01 - Исходная версия\n",
    "- ...\n",
    "- 0.10 - Финальная версия"
   ]
  },
  {
   "cell_type": "code",
   "execution_count": 2,
   "id": "7cf63c1e",
   "metadata": {},
   "outputs": [
    {
     "name": "stdout",
     "output_type": "stream",
     "text": [
      "Requirement already satisfied: numpy in c:\\users\\solnc\\appdata\\local\\packages\\pythonsoftwarefoundation.python.3.11_qbz5n2kfra8p0\\localcache\\local-packages\\python311\\site-packages (2.2.2)\n",
      "Requirement already satisfied: pandas in c:\\users\\solnc\\appdata\\local\\packages\\pythonsoftwarefoundation.python.3.11_qbz5n2kfra8p0\\localcache\\local-packages\\python311\\site-packages (2.2.3)\n",
      "Requirement already satisfied: matplotlib in c:\\users\\solnc\\appdata\\local\\packages\\pythonsoftwarefoundation.python.3.11_qbz5n2kfra8p0\\localcache\\local-packages\\python311\\site-packages (3.10.0)\n",
      "Collecting sqlalchemy\n",
      "  Downloading SQLAlchemy-2.0.38-cp311-cp311-win_amd64.whl.metadata (9.9 kB)\n",
      "Requirement already satisfied: python-dateutil>=2.8.2 in c:\\users\\solnc\\appdata\\local\\packages\\pythonsoftwarefoundation.python.3.11_qbz5n2kfra8p0\\localcache\\local-packages\\python311\\site-packages (from pandas) (2.9.0.post0)\n",
      "Requirement already satisfied: pytz>=2020.1 in c:\\users\\solnc\\appdata\\local\\packages\\pythonsoftwarefoundation.python.3.11_qbz5n2kfra8p0\\localcache\\local-packages\\python311\\site-packages (from pandas) (2025.1)\n",
      "Requirement already satisfied: tzdata>=2022.7 in c:\\users\\solnc\\appdata\\local\\packages\\pythonsoftwarefoundation.python.3.11_qbz5n2kfra8p0\\localcache\\local-packages\\python311\\site-packages (from pandas) (2025.1)\n",
      "Requirement already satisfied: contourpy>=1.0.1 in c:\\users\\solnc\\appdata\\local\\packages\\pythonsoftwarefoundation.python.3.11_qbz5n2kfra8p0\\localcache\\local-packages\\python311\\site-packages (from matplotlib) (1.3.1)\n",
      "Requirement already satisfied: cycler>=0.10 in c:\\users\\solnc\\appdata\\local\\packages\\pythonsoftwarefoundation.python.3.11_qbz5n2kfra8p0\\localcache\\local-packages\\python311\\site-packages (from matplotlib) (0.12.1)\n",
      "Requirement already satisfied: fonttools>=4.22.0 in c:\\users\\solnc\\appdata\\local\\packages\\pythonsoftwarefoundation.python.3.11_qbz5n2kfra8p0\\localcache\\local-packages\\python311\\site-packages (from matplotlib) (4.56.0)\n",
      "Requirement already satisfied: kiwisolver>=1.3.1 in c:\\users\\solnc\\appdata\\local\\packages\\pythonsoftwarefoundation.python.3.11_qbz5n2kfra8p0\\localcache\\local-packages\\python311\\site-packages (from matplotlib) (1.4.8)\n",
      "Requirement already satisfied: packaging>=20.0 in c:\\users\\solnc\\appdata\\local\\packages\\pythonsoftwarefoundation.python.3.11_qbz5n2kfra8p0\\localcache\\local-packages\\python311\\site-packages (from matplotlib) (24.2)\n",
      "Requirement already satisfied: pillow>=8 in c:\\users\\solnc\\appdata\\local\\packages\\pythonsoftwarefoundation.python.3.11_qbz5n2kfra8p0\\localcache\\local-packages\\python311\\site-packages (from matplotlib) (11.1.0)\n",
      "Requirement already satisfied: pyparsing>=2.3.1 in c:\\users\\solnc\\appdata\\local\\packages\\pythonsoftwarefoundation.python.3.11_qbz5n2kfra8p0\\localcache\\local-packages\\python311\\site-packages (from matplotlib) (3.2.1)\n",
      "Collecting greenlet!=0.4.17 (from sqlalchemy)\n",
      "  Downloading greenlet-3.1.1-cp311-cp311-win_amd64.whl.metadata (3.9 kB)\n",
      "Requirement already satisfied: typing-extensions>=4.6.0 in c:\\users\\solnc\\appdata\\local\\packages\\pythonsoftwarefoundation.python.3.11_qbz5n2kfra8p0\\localcache\\local-packages\\python311\\site-packages (from sqlalchemy) (4.12.2)\n",
      "Requirement already satisfied: six>=1.5 in c:\\users\\solnc\\appdata\\local\\packages\\pythonsoftwarefoundation.python.3.11_qbz5n2kfra8p0\\localcache\\local-packages\\python311\\site-packages (from python-dateutil>=2.8.2->pandas) (1.17.0)\n",
      "Downloading SQLAlchemy-2.0.38-cp311-cp311-win_amd64.whl (2.1 MB)\n",
      "   ---------------------------------------- 0.0/2.1 MB ? eta -:--:--\n",
      "   ---------------------------------------- 0.0/2.1 MB ? eta -:--:--\n",
      "   ------------------- -------------------- 1.0/2.1 MB 5.0 MB/s eta 0:00:01\n",
      "   ---------------------------------------- 2.1/2.1 MB 7.4 MB/s eta 0:00:00\n",
      "Downloading greenlet-3.1.1-cp311-cp311-win_amd64.whl (298 kB)\n",
      "Installing collected packages: greenlet, sqlalchemy\n",
      "Successfully installed greenlet-3.1.1 sqlalchemy-2.0.38\n",
      "Note: you may need to restart the kernel to use updated packages.\n"
     ]
    }
   ],
   "source": [
    "pip install numpy pandas matplotlib sqlalchemy"
   ]
  },
  {
   "cell_type": "code",
   "execution_count": null,
   "id": "222451dd",
   "metadata": {},
   "outputs": [],
   "source": [
    "__version__w   = '010'\n",
    "__CR_version__ = '015'\n",
    "#\n",
    "# --\n",
    "from IPython.display import display, HTML"
   ]
  },
  {
   "cell_type": "markdown",
   "id": "2f73654a",
   "metadata": {},
   "source": [
    "<br>\n",
    "\n",
    "# Конфигурационные файлы <a name = config_files></a>\n",
    "\n",
    "[Содержание](#content)"
   ]
  },
  {
   "cell_type": "code",
   "execution_count": null,
   "id": "e8dd3846",
   "metadata": {},
   "outputs": [],
   "source": [
    "#\n",
    "#\n",
    "#   ---------- I. ФАЙЛ ОСНОВНОЙ КОНФИГУРАЦИОННЫЙ (в т.ч. ПЕРЕМЕННЫЕ УПРАВЛЯЮЩИЕ)\n",
    "#\n",
    "#\n",
    "___pathr_config_base___ = \" \""
   ]
  },
  {
   "cell_type": "markdown",
   "id": "8a9f58c5",
   "metadata": {},
   "source": [
    "<br>\n",
    "\n",
    "# Импорт библиотек + Словарь <a name = initial_import></a>\n",
    "\n",
    "[Содержание](#content)"
   ]
  },
  {
   "cell_type": "code",
   "execution_count": 2,
   "id": "a4cbd472",
   "metadata": {},
   "outputs": [
    {
     "ename": "ModuleNotFoundError",
     "evalue": "No module named 'matplotlib'",
     "output_type": "error",
     "traceback": [
      "\u001b[1;31m---------------------------------------------------------------------------\u001b[0m",
      "\u001b[1;31mModuleNotFoundError\u001b[0m                       Traceback (most recent call last)",
      "Cell \u001b[1;32mIn[2], line 3\u001b[0m\n\u001b[0;32m      1\u001b[0m \u001b[38;5;28;01mimport\u001b[39;00m\u001b[38;5;250m \u001b[39m\u001b[38;5;21;01mnumpy\u001b[39;00m\u001b[38;5;250m \u001b[39m\u001b[38;5;28;01mas\u001b[39;00m\u001b[38;5;250m \u001b[39m\u001b[38;5;21;01mnp\u001b[39;00m\n\u001b[0;32m      2\u001b[0m \u001b[38;5;28;01mimport\u001b[39;00m\u001b[38;5;250m \u001b[39m\u001b[38;5;21;01mpandas\u001b[39;00m\u001b[38;5;250m \u001b[39m\u001b[38;5;28;01mas\u001b[39;00m\u001b[38;5;250m \u001b[39m\u001b[38;5;21;01mpd\u001b[39;00m\n\u001b[1;32m----> 3\u001b[0m \u001b[38;5;28;01mimport\u001b[39;00m\u001b[38;5;250m \u001b[39m\u001b[38;5;21;01mmatplotlib\u001b[39;00m\u001b[38;5;21;01m.\u001b[39;00m\u001b[38;5;21;01mpyplot\u001b[39;00m\u001b[38;5;250m \u001b[39m\u001b[38;5;28;01mas\u001b[39;00m\u001b[38;5;250m \u001b[39m\u001b[38;5;21;01mplt\u001b[39;00m\n",
      "\u001b[1;31mModuleNotFoundError\u001b[0m: No module named 'matplotlib'"
     ]
    }
   ],
   "source": [
    "\n",
    "import numpy as np\n",
    "import pandas as pd\n",
    "import matplotlib.pyplot as plt"
   ]
  },
  {
   "cell_type": "markdown",
   "id": "4c2934a2",
   "metadata": {},
   "source": [
    "<br>\n",
    "\n",
    "## Master Scale <a name = initial_import__MS></a>\n",
    "\n",
    "[Содержание](#content)"
   ]
  },
  {
   "cell_type": "code",
   "execution_count": null,
   "id": "e2554d6c",
   "metadata": {},
   "outputs": [],
   "source": []
  },
  {
   "cell_type": "markdown",
   "id": "9a353b18",
   "metadata": {},
   "source": [
    "<br>\n",
    "\n",
    "# Определение функций <a name = functions ></a>\n",
    "\n",
    "[Содержание](#content)"
   ]
  },
  {
   "cell_type": "code",
   "execution_count": null,
   "id": "4c63f337",
   "metadata": {},
   "outputs": [],
   "source": []
  },
  {
   "cell_type": "code",
   "execution_count": null,
   "id": "445ad070",
   "metadata": {},
   "outputs": [],
   "source": []
  },
  {
   "cell_type": "markdown",
   "id": "caf72605",
   "metadata": {},
   "source": [
    "<br>\n",
    "\n",
    "# Загрузка финансовой отчетности <a name = uppload_financials ></a>\n",
    "\n",
    "[Содержание](#content)"
   ]
  },
  {
   "cell_type": "code",
   "execution_count": null,
   "id": "79e13542",
   "metadata": {},
   "outputs": [],
   "source": []
  },
  {
   "cell_type": "markdown",
   "id": "e92e6ea9",
   "metadata": {},
   "source": [
    "<br>\n",
    "\n",
    "# <span style = \"color:fuchsia\">I.   DATA UPLOAD </span>\n",
    "\n",
    "<br>"
   ]
  },
  {
   "cell_type": "code",
   "execution_count": null,
   "id": "9365598a",
   "metadata": {},
   "outputs": [],
   "source": [
    "engine = sqlalchemy."
   ]
  },
  {
   "cell_type": "code",
   "execution_count": null,
   "metadata": {},
   "outputs": [],
   "source": []
  },
  {
   "cell_type": "markdown",
   "id": "dface322",
   "metadata": {},
   "source": [
    "<br>\n",
    "\n",
    "## Данные сегмента <a name = upload_segment></a>\n",
    "\n",
    "[Содержание](#content)"
   ]
  },
  {
   "cell_type": "code",
   "execution_count": null,
   "id": "18369f2d",
   "metadata": {},
   "outputs": [],
   "source": []
  },
  {
   "cell_type": "code",
   "execution_count": null,
   "id": "1b52edc5",
   "metadata": {},
   "outputs": [],
   "source": []
  },
  {
   "cell_type": "markdown",
   "id": "bb5cf041",
   "metadata": {},
   "source": [
    "<br>\n",
    "\n",
    "### Фильтрация <a name = filters ></a>\n",
    "\n",
    "[Содержание](#content)"
   ]
  },
  {
   "cell_type": "code",
   "execution_count": null,
   "metadata": {},
   "outputs": [],
   "source": []
  },
  {
   "cell_type": "markdown",
   "id": "ed7f749f",
   "metadata": {},
   "source": [
    "<br>\n",
    "\n",
    "### Определение сегмента <a name = segmentation ></a>\n",
    "\n",
    "[Содержание](#content)"
   ]
  },
  {
   "cell_type": "code",
   "execution_count": null,
   "id": "3430b1b4",
   "metadata": {},
   "outputs": [],
   "source": []
  },
  {
   "cell_type": "markdown",
   "metadata": {},
   "source": [
    "<br>\n",
    "  \n",
    "### Выделение финансовой отчетности и Фиксирование сегмента <a name = financials__fix_segment></a>\n",
    "\n",
    "[Содержание](#content)"
   ]
  },
  {
   "cell_type": "code",
   "execution_count": null,
   "metadata": {},
   "outputs": [],
   "source": []
  },
  {
   "cell_type": "markdown",
   "id": "7cf0b22e",
   "metadata": {},
   "source": [
    "<br>\n",
    "  \n",
    "### <span style = \"color:violet\">ПРОВЕРКА: пропщуенные значения</span> <a name = check01__missings></a>\n",
    "\n",
    "[Содержание](content)"
   ]
  },
  {
   "cell_type": "code",
   "execution_count": null,
   "id": "cf7201c8",
   "metadata": {},
   "outputs": [],
   "source": []
  },
  {
   "cell_type": "markdown",
   "id": "e032a657",
   "metadata": {},
   "source": [
    "<br>\n",
    "\n",
    "### Взвешивание <a name= data_weights>\n",
    "\n",
    "[Содержание](#content)"
   ]
  },
  {
   "cell_type": "code",
   "execution_count": null,
   "id": "a2a12beb",
   "metadata": {},
   "outputs": [],
   "source": []
  },
  {
   "cell_type": "code",
   "execution_count": null,
   "id": "6b4d1f0f",
   "metadata": {},
   "outputs": [],
   "source": []
  },
  {
   "cell_type": "code",
   "execution_count": null,
   "id": "61a309f3",
   "metadata": {},
   "outputs": [],
   "source": []
  },
  {
   "cell_type": "code",
   "execution_count": null,
   "id": "e11791c0",
   "metadata": {},
   "outputs": [],
   "source": []
  },
  {
   "cell_type": "code",
   "execution_count": null,
   "id": "cc711316",
   "metadata": {},
   "outputs": [],
   "source": []
  },
  {
   "cell_type": "code",
   "execution_count": null,
   "id": "1d950c04",
   "metadata": {},
   "outputs": [],
   "source": []
  },
  {
   "cell_type": "code",
   "execution_count": null,
   "id": "ccfeb9c2",
   "metadata": {},
   "outputs": [],
   "source": []
  },
  {
   "cell_type": "code",
   "execution_count": null,
   "id": "02d1e362",
   "metadata": {},
   "outputs": [],
   "source": []
  },
  {
   "cell_type": "code",
   "execution_count": null,
   "id": "794ec7fb",
   "metadata": {},
   "outputs": [],
   "source": []
  },
  {
   "cell_type": "code",
   "execution_count": null,
   "id": "eca7457a",
   "metadata": {},
   "outputs": [],
   "source": []
  },
  {
   "cell_type": "code",
   "execution_count": null,
   "id": "55834cd3",
   "metadata": {},
   "outputs": [],
   "source": []
  },
  {
   "cell_type": "code",
   "execution_count": null,
   "id": "8d891f88",
   "metadata": {},
   "outputs": [],
   "source": []
  },
  {
   "cell_type": "code",
   "execution_count": null,
   "id": "b6f1bf02",
   "metadata": {},
   "outputs": [],
   "source": []
  },
  {
   "cell_type": "code",
   "execution_count": null,
   "id": "416d8143",
   "metadata": {},
   "outputs": [],
   "source": []
  },
  {
   "cell_type": "code",
   "execution_count": null,
   "id": "933147bb",
   "metadata": {},
   "outputs": [],
   "source": []
  },
  {
   "cell_type": "code",
   "execution_count": null,
   "id": "8b20f43e",
   "metadata": {},
   "outputs": [],
   "source": []
  },
  {
   "cell_type": "code",
   "execution_count": null,
   "id": "3140a443",
   "metadata": {},
   "outputs": [],
   "source": []
  },
  {
   "cell_type": "code",
   "execution_count": null,
   "id": "e0bd45f2",
   "metadata": {},
   "outputs": [],
   "source": []
  },
  {
   "cell_type": "code",
   "execution_count": null,
   "id": "49e1dea7",
   "metadata": {},
   "outputs": [],
   "source": []
  },
  {
   "cell_type": "code",
   "execution_count": null,
   "id": "5399177e",
   "metadata": {},
   "outputs": [],
   "source": []
  },
  {
   "cell_type": "code",
   "execution_count": null,
   "id": "c1c6355f",
   "metadata": {},
   "outputs": [],
   "source": []
  },
  {
   "cell_type": "code",
   "execution_count": null,
   "id": "f6e0559f",
   "metadata": {},
   "outputs": [],
   "source": []
  },
  {
   "cell_type": "code",
   "execution_count": null,
   "id": "f7b2d0e7",
   "metadata": {},
   "outputs": [],
   "source": []
  },
  {
   "cell_type": "code",
   "execution_count": null,
   "id": "f52e1241",
   "metadata": {},
   "outputs": [],
   "source": []
  },
  {
   "cell_type": "code",
   "execution_count": null,
   "id": "ed3da7d0",
   "metadata": {},
   "outputs": [],
   "source": []
  },
  {
   "cell_type": "code",
   "execution_count": null,
   "id": "4b4bfdbc",
   "metadata": {},
   "outputs": [],
   "source": []
  },
  {
   "cell_type": "code",
   "execution_count": null,
   "id": "65d64269",
   "metadata": {},
   "outputs": [],
   "source": []
  },
  {
   "cell_type": "code",
   "execution_count": 14,
   "id": "6b446ede",
   "metadata": {},
   "outputs": [],
   "source": [
    "class Cop(Agent):\n",
    "    def __init__(\n",
    "        self,\n",
    "        unique_id,\n",
    "        model,\n",
    "        pos,\n",
    "        regime_severity,\n",
    "        cop_indoctrination,\n",
    "        anger,\n",
    "        obedience,\n",
    "        violence_threshold,\n",
    "        vision\n",
    "    ):\n",
    "        super().__init__(unique_id, model)\n",
    "        self.breed = \"cop\"\n",
    "        self.pos = pos\n",
    "        self.vision = vision\n",
    "        self.regime_severity = regime_severity\n",
    "        self.cop_indoctrination = cop_indoctrination\n",
    "        self.anger = anger\n",
    "        self.obedience = obedience\n",
    "        self.enraged = 1 - math.exp(-1*self.cop_indoctrination*self.anger)\n",
    "        self.violence = self.regime_severity*self.enraged*(1 - self.obedience)\n",
    "        self.violence_threshold = violence_threshold\n",
    "\n",
    "    def step(self):\n",
    "        self.update_neighbors()\n",
    "        active_neighbors_citizen = []\n",
    "        rampant_neighbors_citizen = []\n",
    "        \n",
    "        for agent in self.neighbors:\n",
    "            if agent.breed == 'citizen' and agent.condition == 'Rampant' and agent.jail_sentence == 0:\n",
    "                rampant_neighbors_citizen.append(agent)\n",
    "            elif agent.breed == 'citizen' and agent.condition == 'Active' and agent.jail_sentence == 0:\n",
    "                active_neighbors_citizen.append(agent)\n",
    "                \n",
    "        if len(rampant_neighbors_citizen) > 0 and \\\n",
    "                (self.violence_threshold <= self.violence):\n",
    "            arrestee = random.choice(rampant_neighbors_citizen)  # полицейский случайным образом выбирает медиа агента\n",
    "            sentence = random.randint(0, self.model.max_jail_term)  # случайному медиа агенту выбирается срок приговора\n",
    "            arrestee.jail_sentence = sentence  # случайному медиа агенту выносится приговор\n",
    "\n",
    "        elif len(rampant_neighbors_citizen) >= 0 and len(active_neighbors_citizen) > 0:\n",
    "            arrestee = random.choice(active_neighbors_citizen)  # полицейский случайным образом выбирает гражданина\n",
    "            sentence = random.randint(0, self.model.max_jail_term)  # случайному гражданину выбирается срок приговора\n",
    "            arrestee.jail_sentence = sentence # случайному гражданину выносится приговор\n",
    "            \n",
    "            \n",
    "        if self.model.movement and self.empty_neighbors:\n",
    "            new_pos = self.random.choice(self.empty_neighbors)\n",
    "            self.model.grid.move_agent(self, new_pos)\n",
    "\n",
    "    def update_neighbors(self):\n",
    "        self.neighborhood = self.model.grid.get_neighborhood(\n",
    "            self.pos, moore=False, radius=1\n",
    "        )\n",
    "        self.neighbors = self.model.grid.get_cell_list_contents(self.neighborhood)\n",
    "        self.empty_neighbors = [\n",
    "            c for c in self.neighborhood if self.model.grid.is_cell_empty(c)\n",
    "        ]"
   ]
  },
  {
   "cell_type": "code",
   "execution_count": 15,
   "id": "6541575d",
   "metadata": {},
   "outputs": [],
   "source": [
    "class EpsteinCivilViolence(Model):\n",
    "    def __init__(\n",
    "        self,\n",
    "        height=40,\n",
    "        width=40,\n",
    "        citizen_density=0.7,\n",
    "        cop_density=0.074,\n",
    "        citizen_vision=7,\n",
    "        cop_vision=7,\n",
    "        legitimacy=0.8,\n",
    "        max_jail_term=1000,\n",
    "        active_inst_threshold=0.1,\n",
    "        active_threat_threshold=0.3,\n",
    "        active_violence_threshold=0.1,\n",
    "        opposite=0.3,\n",
    "        indoctrination=1.5,\n",
    "        severity=0.3,\n",
    "        arrest_prob_constant=2.3,\n",
    "        movement=True,\n",
    "        max_iters=1000\n",
    "    ):\n",
    "        super().__init__()\n",
    "        self.height = height\n",
    "        self.width = width\n",
    "        self.citizen_density = citizen_density\n",
    "        self.cop_density = cop_density\n",
    "        self.citizen_vision = citizen_vision\n",
    "        self.cop_vision = cop_vision\n",
    "        self.legitimacy = legitimacy\n",
    "        self.max_jail_term = max_jail_term\n",
    "        self.active_inst_threshold = active_inst_threshold\n",
    "        self.active_threat_threshold = active_threat_threshold\n",
    "        self.active_violence_threshold = active_violence_threshold\n",
    "        self.opposite = opposite\n",
    "        self.indoctrination = indoctrination\n",
    "        self.severity = severity\n",
    "        self.arrest_prob_constant = arrest_prob_constant\n",
    "        self.movement = movement\n",
    "        self.max_iters = max_iters\n",
    "        self.iteration = 0\n",
    "        self.schedule = RandomActivation(self)\n",
    "        self.grid = Grid(height, width, torus=True)\n",
    "        model_reporters = {\n",
    "            \"Quiescent\": lambda m: self.count_type_citizens(m, \"Quiescent\"),\n",
    "            \"Active\": lambda m: self.count_type_citizens(m, \"Active\"),\n",
    "            \"Rampant\": lambda m: self.count_type_citizens(m, \"Rampant\"),\n",
    "            \"Jailed\": lambda m: self.count_jailed(m),\n",
    "            \"Assaulted\": lambda m: self.count_assaulted(m)\n",
    "        }\n",
    "        agent_reporters = {\n",
    "            \"x\": lambda a: a.pos[0],\n",
    "            \"y\": lambda a: a.pos[1],\n",
    "            \"breed\": lambda a: a.breed,\n",
    "            \"jail_sentence\": lambda a: getattr(a, \"jail_sentence\", None),\n",
    "            \"condition\": lambda a: getattr(a, \"condition\", None),\n",
    "            \"arrest_probability\": lambda a: getattr(a, \"arrest_probability\", None),\n",
    "        }\n",
    "        self.datacollector = DataCollector(\n",
    "            model_reporters=model_reporters, agent_reporters=agent_reporters\n",
    "        )\n",
    "        unique_id = 0\n",
    "        if self.cop_density + self.citizen_density > 1:\n",
    "            raise ValueError(\"Cop density + citizen density must be less than 1\")\n",
    "        \n",
    "        for (contents, x, y) in self.grid.coord_iter():\n",
    "            if self.random.random() < self.cop_density:\n",
    "                cop = Cop(unique_id, \n",
    "                          self, \n",
    "                          (x, y), \n",
    "                          vision=self.cop_vision, \n",
    "                          regime_severity=self.severity,\n",
    "                          anger=self.random.random(),\n",
    "                          obedience=self.random.random(),\n",
    "                          cop_indoctrination=self.indoctrination, \n",
    "                          violence_threshold=self.active_violence_threshold)\n",
    "                unique_id += 1\n",
    "                self.grid[y][x] = cop\n",
    "                self.schedule.add(cop)\n",
    "            \n",
    "            elif self.random.random() < (self.cop_density + self.citizen_density):\n",
    "                citizen = Citizen(\n",
    "                    unique_id,\n",
    "                    self,\n",
    "                    (x, y),\n",
    "                    hardship=self.random.random(),\n",
    "                    regime_legitimacy=self.legitimacy,\n",
    "                    risk_aversion=self.random.random(),\n",
    "                    zero_tolerance=self.random.random(),\n",
    "                    civil_opposite=self.opposite,\n",
    "                    inst_threshold=self.active_inst_threshold,\n",
    "                    threat_threshold=self.active_threat_threshold,\n",
    "                    vision=self.citizen_vision\n",
    "                )\n",
    "                unique_id += 1\n",
    "                self.grid[y][x] = citizen\n",
    "                self.schedule.add(citizen)\n",
    "\n",
    "        self.running = True\n",
    "        self.datacollector.collect(self)\n",
    "\n",
    "    def step(self):\n",
    "        self.schedule.step()\n",
    "        # collect data\n",
    "        self.datacollector.collect(self)\n",
    "        self.iteration += 1\n",
    "        if self.iteration > self.max_iters:\n",
    "            self.running = False\n",
    "\n",
    "    @staticmethod\n",
    "    def count_type_citizens(model, condition, exclude_jailed=True):\n",
    "        count = 0\n",
    "        for agent in model.schedule.agents:\n",
    "            if agent.breed == \"cop\":\n",
    "                continue\n",
    "            if exclude_jailed and agent.jail_sentence:\n",
    "                continue\n",
    "            if agent.condition == condition:\n",
    "                count += 1\n",
    "        return count\n",
    "\n",
    "    @staticmethod\n",
    "    def count_jailed(model):\n",
    "        \"\"\"\n",
    "        Helper method to count jailed agents.\n",
    "        \"\"\"\n",
    "        count = 0\n",
    "        for agent in model.schedule.agents:\n",
    "            if agent.breed == \"citizen\" and agent.jail_sentence:\n",
    "                count += 1\n",
    "        return count\n",
    "    \n",
    "    @staticmethod\n",
    "    def count_assaulted(model, condition):\n",
    "        \"\"\"\n",
    "        Helper method to count assaulted agents.\n",
    "        \"\"\"\n",
    "        count = 0\n",
    "        for agent in model.schedule.agents:\n",
    "            if agent.breed == \"citizen\" and agent.condition == 'Rampant' and agent.jail_sentence:\n",
    "                count += 1\n",
    "        return count"
   ]
  },
  {
   "cell_type": "code",
   "execution_count": 16,
   "id": "c0789f9f",
   "metadata": {},
   "outputs": [],
   "source": [
    "COP_COLOR = \"#000000\"\n",
    "AGENT_QUIET_COLOR = \"#0066CC\"\n",
    "AGENT_ACTIVE_COLOR = \"#CC0000\"\n",
    "AGENT_RAMPANT_COLOR = \"#00008B\"\n",
    "JAIL_COLOR = \"#757575\"\n",
    "ASSAULT_COLOR = '#6AC4B2'\n",
    "\n",
    "def citizen_cop_portrayal(agent):\n",
    "    if agent is None:\n",
    "        return\n",
    "\n",
    "    portrayal = {\n",
    "        \"Shape\": \"circle\",\n",
    "        \"x\": agent.pos[0],\n",
    "        \"y\": agent.pos[1],\n",
    "        \"Filled\": \"true\",\n",
    "    }\n",
    "\n",
    "    if isinstance(agent, Citizen):\n",
    "        color = AGENT_QUIET_COLOR if agent.condition == \"Quiescent\" else color\n",
    "        color = AGENT_ACTIVE_COLOR if agent.condition == \"Active\" else color\n",
    "        color = AGENT_RAMPANT_COLOR if agent.condition == \"Rampant\" else color\n",
    "        color = JAIL_COLOR if agent.jail_sentence else color\n",
    "        color = ASSAULT_COLOR if agent.jail_sentence and agent.condition == \"Rampant\" else color\n",
    "        \n",
    "        portrayal[\"Color\"] = color\n",
    "        portrayal[\"r\"] = 0.8\n",
    "        portrayal[\"Layer\"] = 0\n",
    "\n",
    "    elif isinstance(agent, Cop):\n",
    "        portrayal[\"Color\"] = COP_COLOR\n",
    "        portrayal[\"r\"] = 0.5\n",
    "        portrayal[\"Layer\"] = 1\n",
    "    return portrayal"
   ]
  },
  {
   "cell_type": "code",
   "execution_count": 17,
   "id": "fcb2d1b8",
   "metadata": {
    "scrolled": true
   },
   "outputs": [],
   "source": [
    "COP_COLOR = \"#000000\"\n",
    "AGENT_QUIET_COLOR = \"#0066CC\"\n",
    "AGENT_ACTIVE_COLOR = \"#CC0000\"\n",
    "AGENT_RAMPANT_COLOR = \"#00008B\"\n",
    "JAIL_COLOR = \"#757575\"\n",
    "ASSAULT_COLOR = '#6AC4B2'\n",
    "\n",
    "\n",
    "def citizen_cop_portrayal(agent):\n",
    "    if agent is None:\n",
    "        return\n",
    "\n",
    "    portrayal = {\n",
    "        \"Shape\": \"circle\",\n",
    "        \"x\": agent.pos[0],\n",
    "        \"y\": agent.pos[1],\n",
    "        \"Filled\": \"true\",\n",
    "    }\n",
    "\n",
    "    if type(agent) is Citizen:\n",
    "        color = AGENT_QUIET_COLOR if agent.condition == \"Quiescent\" else color\n",
    "        color = AGENT_ACTIVE_COLOR if agent.condition == \"Active\" else color\n",
    "        color = AGENT_RAMPANT_COLOR if agent.condition == \"Rampant\" else color\n",
    "        color = JAIL_COLOR if agent.jail_sentence else color\n",
    "        color = ASSAULT_COLOR if agent.jail_sentence and agent.condition == \"Rampant\" else color\n",
    "        \n",
    "        portrayal[\"Color\"] = color\n",
    "        portrayal[\"r\"] = 0.8\n",
    "        portrayal[\"Layer\"] = 0\n",
    "\n",
    "    elif type(agent) is Cop:\n",
    "        portrayal[\"Color\"] = COP_COLOR\n",
    "        portrayal[\"r\"] = 0.5\n",
    "        portrayal[\"Layer\"] = 1\n",
    "    return portrayal\n",
    "\n",
    "\n"
   ]
  },
  {
   "cell_type": "code",
   "execution_count": null,
   "id": "e52d7285",
   "metadata": {},
   "outputs": [
    {
     "data": {
      "image/png": "[encoded data removed]",
      "text/plain": [
       "<Figure size 432x288 with 1 Axes>"
      ]
     },
     "metadata": {
      "needs_background": "light"
     },
     "output_type": "display_data"
    }
   ],
   "source": [
    "ax = model_out.plot()\n",
    "ax.set_title('Citizen Condition Over Time')\n",
    "ax.set_xlabel('Step')\n",
    "ax.set_ylabel('Number of Citizens')\n",
    "_ = ax.legend(bbox_to_anchor=(1.35, 1.025))"
   ]
  },
  {
   "cell_type": "code",
   "execution_count": 21,
   "id": "b3838835",
   "metadata": {},
   "outputs": [
    {
     "name": "stdout",
     "output_type": "stream",
     "text": [
      "Получена информация для 100 моделей.\n"
     ]
    }
   ],
   "source": [
    "model_results = []\n",
    "parameters = []\n",
    "count = 0\n",
    "\n",
    "for citizen_density in [0.2, 0.4]:\n",
    "    for cop_density in [0.05, 0.1]:\n",
    "            for legitimacy in [0.1, 0.4, 0.8]:\n",
    "                    for max_jail_term in [5, 10, 30]:\n",
    "                        for active_threshold in [0.1, 0.2, 0.5]:\n",
    "                                model = EpsteinCivilViolence(height=40, \n",
    "                                                           width=40,\n",
    "                                                           citizen_density=citizen_density, \n",
    "                                                           cop_density=cop_density,\n",
    "                                                           citizen_vision=2, \n",
    "                                                           cop_vision=3,\n",
    "                                                           legitimacy=legitimacy,\n",
    "                                                           max_jail_term=max_jail_term,\n",
    "                                                           active_threshold=active_threshold,\n",
    "                                                           max_iters = 100)\n",
    "                                model.run_model()\n",
    "                                    \n",
    "                                model_results.append([model.datacollector.get_model_vars_dataframe()[\"Quiescent\"].max(),\n",
    "                                                      model.datacollector.get_model_vars_dataframe()[\"Quiescent\"].min(),\n",
    "                                                      model.datacollector.get_model_vars_dataframe()[\"Quiescent\"].median(),\n",
    "                                                      model.datacollector.get_model_vars_dataframe()[\"Quiescent\"].autocorr(1),\n",
    "                                                      model.datacollector.get_model_vars_dataframe()[\"Quiescent\"].values[-1],\n",
    "                                                          \n",
    "                                                      model.datacollector.get_model_vars_dataframe()[\"Active\"].max(),\n",
    "                                                      model.datacollector.get_model_vars_dataframe()[\"Active\"].min(),\n",
    "                                                      model.datacollector.get_model_vars_dataframe()[\"Active\"].median(),\n",
    "                                                      model.datacollector.get_model_vars_dataframe()[\"Active\"].autocorr(1),\n",
    "                                                      model.datacollector.get_model_vars_dataframe()[\"Active\"].values[-1],\n",
    "                                                          \n",
    "                                                      model.datacollector.get_model_vars_dataframe()[\"Jailed\"].max(),\n",
    "                                                      model.datacollector.get_model_vars_dataframe()[\"Jailed\"].min(),\n",
    "                                                      model.datacollector.get_model_vars_dataframe()[\"Jailed\"].median(),\n",
    "                                                      model.datacollector.get_model_vars_dataframe()[\"Jailed\"].autocorr(1),\n",
    "                                                      model.datacollector.get_model_vars_dataframe()[\"Jailed\"].values[-1]])\n",
    "                                    \n",
    "                                parameters.append([citizen_density, cop_density,\n",
    "                                                   legitimacy,\n",
    "                                                   max_jail_term, active_threshold])\n",
    "                                count += 1\n",
    "                                \n",
    "                                if count%100 == 0:\n",
    "                                    print(\"Получена информация для %d моделей.\" % (count))"
   ]
  }
 ],
 "metadata": {
  "kernelspec": {
   "display_name": "Python 3",
   "language": "python",
   "name": "python3"
  },
  "language_info": {
   "codemirror_mode": {
    "name": "ipython",
    "version": 3
   },
   "file_extension": ".py",
   "mimetype": "text/x-python",
   "name": "python",
   "nbconvert_exporter": "python",
   "pygments_lexer": "ipython3",
   "version": "3.11.9"
  }
 },
 "nbformat": 4,
 "nbformat_minor": 5
}
