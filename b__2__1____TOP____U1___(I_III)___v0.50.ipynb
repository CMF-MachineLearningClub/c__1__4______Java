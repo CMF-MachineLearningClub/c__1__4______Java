{
 "cells": [
  {
   "cell_type": "markdown",
   "metadata": {},
   "source": [
    "# Формирование риск-факторов для Контрагентов сегмента \"Крупнейшие заемщики\" (TOP, компании и группы)\n",
    "\n",
    "<br>\n",
    "  \n",
    "# Содержание <a name=content></a>\n",
    "  \n",
    "<br>\n",
    "\n",
    "- [<span style=\"color:red\">**Версионность**</span>](#versions)\n",
    "- [<span style=\"color:red\">**Конфигурационные файлы**</span>](#config_files)\n",
    "<br>\n",
    "  \n",
    "- [<span style=\"color:brown\">**Импорт библиотек + Мастер-Шкала + Словарь**</span>](#initial_import)\n",
    "- [Определение функций](#functions)\n",
    "\n",
    "<br>\n",
    "\n",
    "**ЧАСТЬ I   -- ЗАГРУЗКА ДАННЫХ**\n",
    "___\n",
    "\n",
    "  \n",
    "- [**Загрузка данных**](#upld_data)\n",
    "    - [Макроэкономические данные](#upld_macro)\n",
    "    - [Определение целевой переменной](#define_target)\n",
    "  \n",
    "  \n",
    "- [**EDA** (Exploratory Data Analysis)](#eda)\n",
    "    - [Расчёт статистик (+гистограммы распределений)](#statistics_histogramms)\n",
    "    \n",
    "    \n",
    "<br>\n",
    "\n",
    "**ЧАСТЬ II  -- Features Engineering**\n",
    "___\n",
    "    \n",
    "- [Риск-факторы Финансовые](#factors_qn)   \n",
    "    - [**Scale**](#factors_qn_scale)\n",
    "    - [**Leverage**](#factors_qn_leverage)\n",
    "    - [**Liquidity**](#factors_qn_liquidity)\n",
    "    - [**Profitability**](#factors_qn_profitability)\n",
    "\n",
    "    \n",
    "    \n",
    "- [<span style=\"color:green\">**DEVELOPMENT Sample**</span>](#dev_sample)  \n",
    "\n",
    "<br>\n",
    "\n",
    "**ЧАСТЬ III -- SFA**\n",
    "___\n",
    "    \n",
    "\n",
    "- [SFA (Single Factor Analysis)](#SFA)\n",
    "\n",
    "  \n",
    "  \n",
    "<br>\n",
    "\n",
    "**ЧАСТЬ IV -- MFA**\n",
    "___\n",
    "    \n",
    "  \n",
    "- [MFA - финансовый модуль](#MFA_qn)\n",
    "\n",
    "  \n",
    "  \n",
    "<br>\n",
    "\n",
    "**ЧАСТЬ V  -- Калибровка**\n",
    "___\n",
    "    \n",
    "  \n",
    "- [Калибровка](#Calibration)\n",
    "\n",
    "  \n",
    "  \n",
    "<br>\n",
    "\n",
    "**ЧАСТЬ VI -- Валидация**\n",
    "___\n",
    "    \n",
    "  \n",
    "- [Валидация модели](#Validation)"
   ]
  },
  {
   "cell_type": "markdown",
   "metadata": {},
   "source": [
    "<br>\n",
    "  \n",
    "  \n",
    "# Версионность <a name=versions></a>\n",
    "  \n",
    "<br>"
   ]
  },
  {
   "cell_type": "code",
   "execution_count": 1,
   "metadata": {
    "scrolled": false
   },
   "outputs": [
    {
     "data": {
      "text/html": [
       "<style>.container {width:85% !important; }</style>"
      ],
      "text/plain": [
       "<IPython.core.display.HTML object>"
      ]
     },
     "metadata": {},
     "output_type": "display_data"
    }
   ],
   "source": [
    "c_version_r = \"050_1\"\n",
    "c_version_w = \"050_2\"\n",
    "\n",
    "from IPython.core.display import display, HTML\n",
    "display(HTML(\"<style>.container {width:85% !important; }</style>\"))"
   ]
  },
  {
   "cell_type": "code",
   "execution_count": 2,
   "metadata": {},
   "outputs": [
    {
     "data": {
      "application/javascript": [
       "\n",
       "Jupyter.keyboard_manager.disable()\n"
      ],
      "text/plain": [
       "<IPython.core.display.Javascript object>"
      ]
     },
     "metadata": {},
     "output_type": "display_data"
    }
   ],
   "source": [
    "%%javascript\n",
    "\n",
    "Jupyter.keyboard_manager.disable()"
   ]
  },
  {
   "cell_type": "markdown",
   "metadata": {
    "scrolled": true
   },
   "source": [
    "<br>\n",
    "\n",
    "\n",
    "# Конфигурационные файлы <a name=config_files></a>\n",
    "\n",
    "[Содержание](#content)"
   ]
  },
  {
   "cell_type": "code",
   "execution_count": null,
   "metadata": {},
   "outputs": [],
   "source": []
  },
  {
   "cell_type": "markdown",
   "metadata": {},
   "source": [
    "<br>\n",
    "\n",
    "\n",
    "# Импорт библиотек + Master Scale + Словарь <a name= initial_import ></a>\n",
    "\n",
    "[Содержание](#content)"
   ]
  },
  {
   "cell_type": "code",
   "execution_count": null,
   "metadata": {},
   "outputs": [],
   "source": []
  },
  {
   "cell_type": "code",
   "execution_count": 2,
   "metadata": {},
   "outputs": [],
   "source": [
    "def RATINGS_func(x,CALIB):\n",
    "    \n",
    "    #CALIB = pd.read_csv(\"D:\\\\Shepitko-IS\\\\Desktop\\\\Projects\\\\a6_2_DenizBank\\\\Group_Government_Support\\\\a6_2_DENIZ1819_CALIB_v0_1.csv\",delimiter=';',skipinitialspace=True)\n",
    "    \n",
    "    # masterscale\n",
    "    MS_PD = [ 0.00020, 0.00037, 0.00051, 0.00070, 0.00097, 0.00133, 0.00184, 0.00253, 0.00348, 0.00480, 0.00660\n",
    "             ,0.00910, 0.01253, 0.01725, 0.02375, 0.03271, 0.04505, 0.06204, 0.08543, 0.11765, 0.16203, 0.22313\n",
    "             ,0.30728, 0.42316, 0.58275, 1 ]\n",
    "    \n",
    "    MS_LB = [ 0.00000, 0.00032, 0.00044, 0.00060, 0.00083, 0.00114, 0.00156, 0.00215, 0.00297, 0.00409, 0.00563\n",
    "             ,0.00775, 0.01067, 0.01470, 0.02024, 0.02788, 0.03839, 0.05287, 0.07280, 0.10026, 0.13807, 0.19014\n",
    "             ,0.26185, 0.36059, 0.49659, 1 ]\n",
    "    \n",
    "    MS_UB = [ 0.00032, 0.00044, 0.00060, 0.00083, 0.00114, 0.00156, 0.00215, 0.00297, 0.00409, 0.00563, 0.00775\n",
    "             ,0.01067, 0.01470, 0.02024, 0.02788, 0.03839, 0.05287, 0.07280, 0.10026, 0.13807, 0.19014, 0.26185\n",
    "             ,0.36059, 0.49659, 1, 1 ]\n",
    "    \n",
    "    \n",
    "    \n",
    "    CALIB['PD_opt'] = 1/(1+np.exp(-(x[0]*CALIB['BASE_score']+x[1])))\n",
    "    \n",
    "    for j in range(0,26):\n",
    "        indx1 = CALIB['PD_opt'] >= float(MS_LB[j])\n",
    "        indx2 = CALIB['PD_opt'] <  float(MS_UB[j])\n",
    "        \n",
    "        CALIB.loc[indx1 & indx2,'Rating'] = j+1\n",
    "        CALIB.loc[indx1 & indx2,'PD_mapback'] = float(MS_PD[j])    \n",
    "         \n",
    "    return CALIB"
   ]
  },
  {
   "cell_type": "markdown",
   "metadata": {},
   "source": [
    "<br>\n",
    "  \n",
    "  \n",
    "# Определение функций <a name= functions></a>\n",
    "  \n",
    "  \n",
    "[Содержание](#content)"
   ]
  },
  {
   "cell_type": "code",
   "execution_count": null,
   "metadata": {},
   "outputs": [],
   "source": []
  },
  {
   "cell_type": "markdown",
   "metadata": {},
   "source": [
    "<br>\n",
    "  \n",
    "  \n",
    "# <span style=\"color:Indigo\"> ЗАГРУЗКА ДАННЫХ </span>\n",
    "\n",
    "\n",
    "<br>"
   ]
  },
  {
   "cell_type": "code",
   "execution_count": null,
   "metadata": {},
   "outputs": [],
   "source": []
  },
  {
   "cell_type": "code",
   "execution_count": null,
   "metadata": {
    "scrolled": true
   },
   "outputs": [],
   "source": []
  },
  {
   "cell_type": "code",
   "execution_count": null,
   "metadata": {},
   "outputs": [],
   "source": []
  },
  {
   "cell_type": "code",
   "execution_count": null,
   "metadata": {},
   "outputs": [],
   "source": []
  },
  {
   "cell_type": "markdown",
   "metadata": {},
   "source": [
    "# UPLOAD dev samples"
   ]
  },
  {
   "cell_type": "code",
   "execution_count": 45,
   "metadata": {
    "scrolled": true
   },
   "outputs": [
    {
     "name": "stdout",
     "output_type": "stream",
     "text": [
      "approval_date     object\n",
      "customer_no        int64\n",
      "appr_VINTAGE      object\n",
      "default            int64\n",
      "weight           float64\n",
      "BASE_score       float64\n",
      "dtype: object\n",
      "(11786, 6)\n"
     ]
    }
   ],
   "source": [
    "portfolio = pd.read_csv(\"C:\\\\Users\\\\ivanmipt\\\\Desktop\\\\Socio\\\\d___Investments\\\\Data\\\\Portfolios\\\\DenizPortfolio.txt\",encoding='windows-1251',delimiter=\"\\t\")\n",
    "print(portfolio.dtypes)\n",
    "print(portfolio.shape)"
   ]
  },
  {
   "cell_type": "code",
   "execution_count": 46,
   "metadata": {
    "scrolled": true
   },
   "outputs": [],
   "source": [
    "from datetime import datetime\n",
    "\n",
    "portfolio['VINTAGE'] = portfolio['appr_VINTAGE'].map(lambda x: datetime.strptime(x, '%d%b%Y'))\n",
    "portfolio = portfolio[['default','weight','BASE_score','VINTAGE']]"
   ]
  },
  {
   "cell_type": "code",
   "execution_count": 47,
   "metadata": {
    "scrolled": true
   },
   "outputs": [],
   "source": [
    "x = [-0.0526 ,-5.1109  ]\n",
    "portfolio_u = RATINGS_func(x,portfolio)"
   ]
  },
  {
   "cell_type": "markdown",
   "metadata": {},
   "source": [
    "## define loiville's empirical velocities"
   ]
  },
  {
   "cell_type": "markdown",
   "metadata": {},
   "source": [
    "**There are next types of factors:**\n",
    "\n",
    "USD liquid positive affect <br/>\n",
    "USD liquid negative affect <br/>\n",
    "USD non-liquid positive affect <br/>\n",
    "USD non-liquid negative affect <br/>\n",
    "<br/>\n",
    "<br/>\n",
    "RUR liquid positive affect <br/>\n",
    "RUR liquid negative affect <br/>\n",
    "RUR non-liquid positive affect <br/>\n",
    "RUR non-liquid negative affect <br/>"
   ]
  },
  {
   "cell_type": "code",
   "execution_count": 54,
   "metadata": {},
   "outputs": [],
   "source": [
    "for i in range(0,len(dates)-1):\n",
    "    \n",
    "    dat_t = dates[i]\n",
    "    dat_t_1 = dates[i+1]\n",
    "    \n",
    "    tmp_t = pd.DataFrame(sample_u[sample_u['VINTAGE']==dat_t])\n",
    "    tmp_t_1 = pd.DataFrame(sample_u[sample_u['VINTAGE']==dat_t_1])\n",
    "    tmp = pd.DataFrame(data = { 'VINTAGE' : [dat_t] })\n",
    "    \n",
    "    for j in range(0,22):\n",
    "        \n",
    "        if j==0 :\n",
    "            tmp['u_Rating_0'] = 0.0\n",
    "        else:\n",
    "            nam2 = 'distr_Rating_' + str(j)\n",
    "            nam2_ = 'distr_Rating_' + str(j-1)\n",
    "            \n",
    "            nam3 = 'u_Rating_' + str(j)\n",
    "            nam3_ = 'u_Rating_' + str(j-1)\n",
    "            \n",
    "            #print('a------------1')\n",
    "            #print(float(tmp[nam3_]))\n",
    "            #print(float(tmp_t[nam2_]))\n",
    "            #print(float(tmp_t[nam2_]))\n",
    "            \n",
    "            #print(float(tmp_t_1[nam2_]))\n",
    "            #print(float(tmp_t[nam2]))\n",
    "            \n",
    "            if float(tmp_t[nam2]) > 0:\n",
    "                tmp[nam3] = round(((  float(tmp[nam3_])*float(tmp_t[nam2_])\n",
    "                         -(float(tmp_t[nam2_])-float(tmp_t_1[nam2_])))/float(tmp_t[nam2])),4)\n",
    "            else:\n",
    "                tmp[nam3] = 0.0\n",
    "                \n",
    "    if i==0:\n",
    "        fin = tmp\n",
    "    else:\n",
    "        fin = fin.append([tmp])\n",
    "    "
   ]
  },
  {
   "cell_type": "code",
   "execution_count": null,
   "metadata": {},
   "outputs": [],
   "source": []
  },
  {
   "cell_type": "code",
   "execution_count": null,
   "metadata": {},
   "outputs": [],
   "source": []
  },
  {
   "cell_type": "markdown",
   "metadata": {},
   "source": [
    "# Kinetic approach\n",
    "\n",
    "### the general louisville's equation:\n",
    "\n",
    "![title](Pictures/d___001.png)\n",
    "\n",
    "### the expression that binds velocity and empirical distribution function:\n",
    "\n",
    "![title](Pictures/d___002.png)"
   ]
  },
  {
   "cell_type": "code",
   "execution_count": 163,
   "metadata": {
    "scrolled": true
   },
   "outputs": [],
   "source": [
    "#USD\n",
    "'''\n",
    "usd_liq_pos_P = pd.DataFrame(X_PASSIVE[X_PASSIVE['NUM_SC'].isin(l_usd_liq_pos_P)].groupby('DT')['IV'].sum().reset_index())\n",
    "usd_liq_pos_A = pd.DataFrame(X_ACTIVE[X_ACTIVE['NUM_SC'].isin(l_usd_liq_pos_A)].groupby('DT')['IV'].sum().reset_index())\n",
    "\n",
    "usd_liq_pos = usd_liq_pos_P.merge(usd_liq_pos_A, how='inner', on='DT')\n",
    "usd_liq_pos['var1'] = usd_liq_pos['IV_x']/usd_liq_pos['IV_y']\n",
    "\n",
    "usd_liq_neg_P = pd.DataFrame(X_PASSIVE[X_PASSIVE['NUM_SC'].isin(l_usd_liq_neg_P)].groupby('DT')['IV'].sum().reset_index())\n",
    "usd_liq_neg_A = pd.DataFrame(X_ACTIVE[X_ACTIVE['NUM_SC'].isin(l_usd_liq_neg_A)].groupby('DT')['IV'].sum().reset_index())\n",
    "\n",
    "usd_liq_neg = usd_liq_neg_P.merge(usd_liq_neg_A, how='inner', on='DT')\n",
    "usd_liq_neg['var2'] = usd_liq_neg['IV_x']/usd_liq_neg['IV_y']\n",
    "'''\n",
    "\n",
    "\n",
    "usd_nliq_pos_P = pd.DataFrame(X_PASSIVE[X_PASSIVE['NUM_SC'].isin(l_usd_nliq_pos_P)].groupby('DT')['IV'].sum().reset_index())\n",
    "usd_nliq_pos_A = pd.DataFrame(X_ACTIVE[X_ACTIVE['NUM_SC'].isin(l_usd_nliq_pos_A)].groupby('DT')['IV'].sum().reset_index())\n",
    "\n",
    "usd_nliq_pos = usd_nliq_pos_P.merge(usd_nliq_pos_A, how='inner', on='DT')\n",
    "usd_nliq_pos['var3'] = usd_nliq_pos['IV_x']/usd_nliq_pos['IV_y']\n",
    "\n",
    "usd_nliq_neg_P = pd.DataFrame(X_PASSIVE[X_PASSIVE['NUM_SC'].isin(l_usd_nliq_neg_P)].groupby('DT')['IV'].sum().reset_index())\n",
    "usd_nliq_neg_A = pd.DataFrame(X_ACTIVE[X_ACTIVE['NUM_SC'].isin(l_usd_nliq_neg_A)].groupby('DT')['IV'].sum().reset_index())\n",
    "\n",
    "usd_nliq_neg = usd_nliq_neg_P.merge(usd_nliq_neg_A, how='inner', on='DT')\n",
    "usd_nliq_neg['var4'] = -usd_nliq_neg['IV_x']/usd_nliq_neg['IV_y']\n"
   ]
  },
  {
   "cell_type": "code",
   "execution_count": 164,
   "metadata": {
    "scrolled": true
   },
   "outputs": [],
   "source": [
    "#RUR\n",
    "\n",
    "'''\n",
    "\n",
    "\n",
    "rur_liq_pos_P = pd.DataFrame(X_PASSIVE[X_PASSIVE['NUM_SC'].isin(l_rur_liq_pos_P)].groupby('DT')['IV'].sum().reset_index())\n",
    "rur_liq_pos_A = pd.DataFrame(X_ACTIVE[X_ACTIVE['NUM_SC'].isin(l_rur_liq_pos_A)].groupby('DT')['IV'].sum().reset_index())\n",
    "\n",
    "rur_liq_pos = rur_liq_pos_P.merge(rur_liq_pos_A, how='inner', on='DT')\n",
    "rur_liq_pos['var5'] = rur_liq_pos['IV_x']/rur_liq_pos['IV_y']\n",
    "\n",
    "rur_liq_neg_P = pd.DataFrame(X_PASSIVE[X_PASSIVE['NUM_SC'].isin(l_rur_liq_neg_P)].groupby('DT')['IV'].sum().reset_index())\n",
    "rur_liq_neg_A = pd.DataFrame(X_ACTIVE[X_ACTIVE['NUM_SC'].isin(l_rur_liq_neg_A)].groupby('DT')['IV'].sum().reset_index())\n",
    "\n",
    "rur_liq_neg = rur_liq_neg_P.merge(rur_liq_neg_A, how='inner', on='DT')\n",
    "rur_liq_neg['var6'] = rur_liq_neg['IV_x']/rur_liq_neg['IV_y']\n",
    "\n",
    "'''\n",
    "\n",
    "\n",
    "rur_nliq_pos_P = pd.DataFrame(X_PASSIVE[X_PASSIVE['NUM_SC'].isin(l_rur_nliq_pos_P)].groupby('DT')['IR'].sum().reset_index())\n",
    "rur_nliq_pos_A = pd.DataFrame(X_ACTIVE[X_ACTIVE['NUM_SC'].isin(l_rur_nliq_pos_A)].groupby('DT')['IR'].sum().reset_index())\n",
    "\n",
    "rur_nliq_pos = rur_nliq_pos_P.merge(rur_nliq_pos_A, how='inner', on='DT')\n",
    "rur_nliq_pos['var7'] = rur_nliq_pos['IR_x']/rur_nliq_pos['IR_y']\n",
    "\n",
    "rur_nliq_neg_P = pd.DataFrame(X_PASSIVE[X_PASSIVE['NUM_SC'].isin(l_rur_nliq_neg_P)].groupby('DT')['IR'].sum().reset_index())\n",
    "rur_nliq_neg_A = pd.DataFrame(X_ACTIVE[X_ACTIVE['NUM_SC'].isin(l_rur_nliq_neg_A)].groupby('DT')['IR'].sum().reset_index())\n",
    "\n",
    "rur_nliq_neg = rur_nliq_neg_P.merge(rur_nliq_neg_A, how='inner', on='DT')\n",
    "rur_nliq_neg['var8'] = -rur_nliq_neg['IR_x']/rur_nliq_neg['IR_y']\n"
   ]
  },
  {
   "cell_type": "code",
   "execution_count": 165,
   "metadata": {
    "scrolled": true
   },
   "outputs": [],
   "source": [
    "#drop\n",
    "usd_nliq_pos.drop(['IV_x','IV_y'],axis=1,inplace=True)\n",
    "usd_nliq_neg.drop(['IV_x','IV_y'],axis=1,inplace=True)\n",
    "\n",
    "rur_nliq_pos.drop(['IR_x','IR_y'],axis=1,inplace=True)\n",
    "rur_nliq_neg.drop(['IR_x','IR_y'],axis=1,inplace=True)"
   ]
  },
  {
   "cell_type": "markdown",
   "metadata": {},
   "source": [
    "### training dataset"
   ]
  },
  {
   "cell_type": "code",
   "execution_count": 166,
   "metadata": {
    "scrolled": true
   },
   "outputs": [],
   "source": [
    "from functools import reduce\n",
    "\n",
    "parts = [usd_nliq_pos, usd_nliq_neg, rur_nliq_pos, rur_nliq_neg]\n",
    "final = reduce(lambda left,right: pd.merge(left,right,on='DT'), parts)"
   ]
  },
  {
   "cell_type": "code",
   "execution_count": 167,
   "metadata": {},
   "outputs": [],
   "source": [
    "target = target_init[['net capital flow','DT']]\n",
    "target.columns = ['target','DT']"
   ]
  },
  {
   "cell_type": "code",
   "execution_count": 168,
   "metadata": {},
   "outputs": [
    {
     "name": "stdout",
     "output_type": "stream",
     "text": [
      "\n",
      " for  var3  :  0.6314 \n",
      "\n",
      "\n",
      " for  var4  :  0.5595 \n",
      "\n",
      "\n",
      " for  var7  :  0.6217 \n",
      "\n",
      "\n",
      " for  var8  :  0.5214 \n",
      "\n"
     ]
    }
   ],
   "source": [
    "TRAIN_TEST = pd.merge(final,target,how='inner',on='DT')\n",
    "\n",
    "for i in range(1,len(TRAIN_TEST.columns)-1):\n",
    "    nam = TRAIN_TEST.columns[i]\n",
    "    t1 = TRAIN_TEST[nam]\n",
    "    t2 = TRAIN_TEST['target']\n",
    "    c = np.corrcoef(t1, t2)\n",
    "    \n",
    "    print('\\n','for ',nam,' : ',round(c[0][1],4),'\\n')\n",
    "    "
   ]
  },
  {
   "cell_type": "markdown",
   "metadata": {},
   "source": [
    "## correlation analysis"
   ]
  },
  {
   "cell_type": "markdown",
   "metadata": {},
   "source": [
    "# Fitting the Model"
   ]
  },
  {
   "cell_type": "code",
   "execution_count": 169,
   "metadata": {
    "scrolled": true
   },
   "outputs": [],
   "source": [
    "reg = LinearRegression()\n",
    "\n",
    "TRAIN = TRAIN_TEST[['var3','var4','var7','var8']] #.values.reshape(-1,1)\n",
    "y = TRAIN_TEST['target']\n",
    "\n",
    "reg.fit(TRAIN,y)\n",
    "\n",
    "pred = reg.predict(TRAIN)\n",
    "pred_  = pd.DataFrame(pred)"
   ]
  },
  {
   "cell_type": "code",
   "execution_count": 170,
   "metadata": {},
   "outputs": [
    {
     "name": "stdout",
     "output_type": "stream",
     "text": [
      "koef  1  :  0.06 \n",
      "\n",
      "koef  2  :  -0.34 \n",
      "\n",
      "koef  3  :  4.37 \n",
      "\n",
      "koef  4  :  134.3 \n",
      "\n",
      "cc:  0.7454423243890042   somD:  0.5616326530612245\n"
     ]
    }
   ],
   "source": [
    "c = reg.coef_\n",
    "\n",
    "for j in range(0,len(c)):\n",
    "    print('koef ',j+1,' : ',round(c[j],2),'\\n')\n",
    "\n",
    "cc = np.corrcoef(pred,y)[0,1]\n",
    "    \n",
    "sd = Somers_D(y,pred)\n",
    "\n",
    "print(\"cc: \",cc,\"  somD: \",sd)"
   ]
  },
  {
   "cell_type": "code",
   "execution_count": 66,
   "metadata": {},
   "outputs": [
    {
     "data": {
      "text/html": [
       "<div>\n",
       "<style scoped>\n",
       "    .dataframe tbody tr th:only-of-type {\n",
       "        vertical-align: middle;\n",
       "    }\n",
       "\n",
       "    .dataframe tbody tr th {\n",
       "        vertical-align: top;\n",
       "    }\n",
       "\n",
       "    .dataframe thead th {\n",
       "        text-align: right;\n",
       "    }\n",
       "</style>\n",
       "<table border=\"1\" class=\"dataframe\">\n",
       "  <thead>\n",
       "    <tr style=\"text-align: right;\">\n",
       "      <th></th>\n",
       "      <th>0</th>\n",
       "      <th>1</th>\n",
       "    </tr>\n",
       "  </thead>\n",
       "  <tbody>\n",
       "    <tr>\n",
       "      <th>0</th>\n",
       "      <td>16.947476</td>\n",
       "      <td>19.0</td>\n",
       "    </tr>\n",
       "    <tr>\n",
       "      <th>1</th>\n",
       "      <td>13.334611</td>\n",
       "      <td>14.3</td>\n",
       "    </tr>\n",
       "    <tr>\n",
       "      <th>2</th>\n",
       "      <td>11.667038</td>\n",
       "      <td>14.1</td>\n",
       "    </tr>\n",
       "    <tr>\n",
       "      <th>3</th>\n",
       "      <td>8.913794</td>\n",
       "      <td>25.0</td>\n",
       "    </tr>\n",
       "    <tr>\n",
       "      <th>4</th>\n",
       "      <td>8.522760</td>\n",
       "      <td>9.2</td>\n",
       "    </tr>\n",
       "    <tr>\n",
       "      <th>5</th>\n",
       "      <td>2.440124</td>\n",
       "      <td>-12.7</td>\n",
       "    </tr>\n",
       "    <tr>\n",
       "      <th>6</th>\n",
       "      <td>11.883256</td>\n",
       "      <td>6.4</td>\n",
       "    </tr>\n",
       "    <tr>\n",
       "      <th>7</th>\n",
       "      <td>12.447030</td>\n",
       "      <td>1.2</td>\n",
       "    </tr>\n",
       "    <tr>\n",
       "      <th>8</th>\n",
       "      <td>13.961172</td>\n",
       "      <td>28.5</td>\n",
       "    </tr>\n",
       "    <tr>\n",
       "      <th>9</th>\n",
       "      <td>15.438153</td>\n",
       "      <td>13.3</td>\n",
       "    </tr>\n",
       "    <tr>\n",
       "      <th>10</th>\n",
       "      <td>15.999983</td>\n",
       "      <td>34.1</td>\n",
       "    </tr>\n",
       "    <tr>\n",
       "      <th>11</th>\n",
       "      <td>17.713727</td>\n",
       "      <td>11.4</td>\n",
       "    </tr>\n",
       "    <tr>\n",
       "      <th>12</th>\n",
       "      <td>16.498743</td>\n",
       "      <td>17.8</td>\n",
       "    </tr>\n",
       "    <tr>\n",
       "      <th>13</th>\n",
       "      <td>16.332960</td>\n",
       "      <td>3.7</td>\n",
       "    </tr>\n",
       "    <tr>\n",
       "      <th>14</th>\n",
       "      <td>13.371051</td>\n",
       "      <td>12.9</td>\n",
       "    </tr>\n",
       "    <tr>\n",
       "      <th>15</th>\n",
       "      <td>5.409686</td>\n",
       "      <td>4.5</td>\n",
       "    </tr>\n",
       "    <tr>\n",
       "      <th>16</th>\n",
       "      <td>2.156528</td>\n",
       "      <td>1.2</td>\n",
       "    </tr>\n",
       "    <tr>\n",
       "      <th>17</th>\n",
       "      <td>1.345436</td>\n",
       "      <td>1.6</td>\n",
       "    </tr>\n",
       "    <tr>\n",
       "      <th>18</th>\n",
       "      <td>2.132623</td>\n",
       "      <td>-2.1</td>\n",
       "    </tr>\n",
       "    <tr>\n",
       "      <th>19</th>\n",
       "      <td>1.906811</td>\n",
       "      <td>-3.0</td>\n",
       "    </tr>\n",
       "    <tr>\n",
       "      <th>20</th>\n",
       "      <td>2.529611</td>\n",
       "      <td>4.4</td>\n",
       "    </tr>\n",
       "    <tr>\n",
       "      <th>21</th>\n",
       "      <td>2.088839</td>\n",
       "      <td>0.9</td>\n",
       "    </tr>\n",
       "    <tr>\n",
       "      <th>22</th>\n",
       "      <td>4.462937</td>\n",
       "      <td>3.8</td>\n",
       "    </tr>\n",
       "    <tr>\n",
       "      <th>23</th>\n",
       "      <td>6.397653</td>\n",
       "      <td>2.3</td>\n",
       "    </tr>\n",
       "    <tr>\n",
       "      <th>24</th>\n",
       "      <td>2.878738</td>\n",
       "      <td>2.6</td>\n",
       "    </tr>\n",
       "    <tr>\n",
       "      <th>25</th>\n",
       "      <td>0.211335</td>\n",
       "      <td>3.5</td>\n",
       "    </tr>\n",
       "    <tr>\n",
       "      <th>26</th>\n",
       "      <td>-2.157622</td>\n",
       "      <td>1.7</td>\n",
       "    </tr>\n",
       "    <tr>\n",
       "      <th>27</th>\n",
       "      <td>-4.043180</td>\n",
       "      <td>0.4</td>\n",
       "    </tr>\n",
       "    <tr>\n",
       "      <th>28</th>\n",
       "      <td>-6.441496</td>\n",
       "      <td>-2.5</td>\n",
       "    </tr>\n",
       "    <tr>\n",
       "      <th>29</th>\n",
       "      <td>-1.258633</td>\n",
       "      <td>0.2</td>\n",
       "    </tr>\n",
       "    <tr>\n",
       "      <th>30</th>\n",
       "      <td>-3.068815</td>\n",
       "      <td>-1.5</td>\n",
       "    </tr>\n",
       "    <tr>\n",
       "      <th>31</th>\n",
       "      <td>1.328609</td>\n",
       "      <td>2.5</td>\n",
       "    </tr>\n",
       "    <tr>\n",
       "      <th>32</th>\n",
       "      <td>1.035443</td>\n",
       "      <td>-1.4</td>\n",
       "    </tr>\n",
       "    <tr>\n",
       "      <th>33</th>\n",
       "      <td>2.543663</td>\n",
       "      <td>-0.2</td>\n",
       "    </tr>\n",
       "    <tr>\n",
       "      <th>34</th>\n",
       "      <td>3.944044</td>\n",
       "      <td>11.1</td>\n",
       "    </tr>\n",
       "    <tr>\n",
       "      <th>35</th>\n",
       "      <td>6.505519</td>\n",
       "      <td>2.9</td>\n",
       "    </tr>\n",
       "    <tr>\n",
       "      <th>36</th>\n",
       "      <td>4.711107</td>\n",
       "      <td>1.1</td>\n",
       "    </tr>\n",
       "    <tr>\n",
       "      <th>37</th>\n",
       "      <td>4.698761</td>\n",
       "      <td>12.2</td>\n",
       "    </tr>\n",
       "    <tr>\n",
       "      <th>38</th>\n",
       "      <td>5.721480</td>\n",
       "      <td>1.4</td>\n",
       "    </tr>\n",
       "    <tr>\n",
       "      <th>39</th>\n",
       "      <td>3.969379</td>\n",
       "      <td>0.8</td>\n",
       "    </tr>\n",
       "    <tr>\n",
       "      <th>40</th>\n",
       "      <td>1.144709</td>\n",
       "      <td>-4.0</td>\n",
       "    </tr>\n",
       "    <tr>\n",
       "      <th>41</th>\n",
       "      <td>-2.930445</td>\n",
       "      <td>-5.6</td>\n",
       "    </tr>\n",
       "    <tr>\n",
       "      <th>42</th>\n",
       "      <td>-1.193378</td>\n",
       "      <td>0.9</td>\n",
       "    </tr>\n",
       "    <tr>\n",
       "      <th>43</th>\n",
       "      <td>1.367715</td>\n",
       "      <td>5.3</td>\n",
       "    </tr>\n",
       "    <tr>\n",
       "      <th>44</th>\n",
       "      <td>2.461801</td>\n",
       "      <td>0.6</td>\n",
       "    </tr>\n",
       "    <tr>\n",
       "      <th>45</th>\n",
       "      <td>5.129967</td>\n",
       "      <td>4.0</td>\n",
       "    </tr>\n",
       "    <tr>\n",
       "      <th>46</th>\n",
       "      <td>2.813325</td>\n",
       "      <td>7.7</td>\n",
       "    </tr>\n",
       "    <tr>\n",
       "      <th>47</th>\n",
       "      <td>8.500979</td>\n",
       "      <td>7.4</td>\n",
       "    </tr>\n",
       "    <tr>\n",
       "      <th>48</th>\n",
       "      <td>5.293668</td>\n",
       "      <td>1.8</td>\n",
       "    </tr>\n",
       "    <tr>\n",
       "      <th>49</th>\n",
       "      <td>5.331326</td>\n",
       "      <td>7.7</td>\n",
       "    </tr>\n",
       "  </tbody>\n",
       "</table>\n",
       "</div>"
      ],
      "text/plain": [
       "            0     1\n",
       "0   16.947476  19.0\n",
       "1   13.334611  14.3\n",
       "2   11.667038  14.1\n",
       "3    8.913794  25.0\n",
       "4    8.522760   9.2\n",
       "5    2.440124 -12.7\n",
       "6   11.883256   6.4\n",
       "7   12.447030   1.2\n",
       "8   13.961172  28.5\n",
       "9   15.438153  13.3\n",
       "10  15.999983  34.1\n",
       "11  17.713727  11.4\n",
       "12  16.498743  17.8\n",
       "13  16.332960   3.7\n",
       "14  13.371051  12.9\n",
       "15   5.409686   4.5\n",
       "16   2.156528   1.2\n",
       "17   1.345436   1.6\n",
       "18   2.132623  -2.1\n",
       "19   1.906811  -3.0\n",
       "20   2.529611   4.4\n",
       "21   2.088839   0.9\n",
       "22   4.462937   3.8\n",
       "23   6.397653   2.3\n",
       "24   2.878738   2.6\n",
       "25   0.211335   3.5\n",
       "26  -2.157622   1.7\n",
       "27  -4.043180   0.4\n",
       "28  -6.441496  -2.5\n",
       "29  -1.258633   0.2\n",
       "30  -3.068815  -1.5\n",
       "31   1.328609   2.5\n",
       "32   1.035443  -1.4\n",
       "33   2.543663  -0.2\n",
       "34   3.944044  11.1\n",
       "35   6.505519   2.9\n",
       "36   4.711107   1.1\n",
       "37   4.698761  12.2\n",
       "38   5.721480   1.4\n",
       "39   3.969379   0.8\n",
       "40   1.144709  -4.0\n",
       "41  -2.930445  -5.6\n",
       "42  -1.193378   0.9\n",
       "43   1.367715   5.3\n",
       "44   2.461801   0.6\n",
       "45   5.129967   4.0\n",
       "46   2.813325   7.7\n",
       "47   8.500979   7.4\n",
       "48   5.293668   1.8\n",
       "49   5.331326   7.7"
      ]
     },
     "execution_count": 66,
     "metadata": {},
     "output_type": "execute_result"
    }
   ],
   "source": [
    "pred_vs_fact = pd.DataFrame([pred,y]).transpose()\n",
    "pred_vs_fact"
   ]
  },
  {
   "cell_type": "code",
   "execution_count": null,
   "metadata": {},
   "outputs": [],
   "source": [
    "for_h.plot(x='Rating',y='distr',kind='bar',color='b')\n",
    "for_h.PD.plot(secondary_y = True, linestyle='-',marker='o',color='r')\n",
    "\n",
    "plt.savefig('D:\\\\Shepitko-IS\\\\Desktop\\\\Projects\\\\b5___Sub_Souvereigns\\\\Data\\\\b5___final_distribution.png')\n",
    "\n"
   ]
  },
  {
   "cell_type": "code",
   "execution_count": null,
   "metadata": {
    "scrolled": true
   },
   "outputs": [],
   "source": [
    "model_res.groupby('Rating')['PD_obs'].count()"
   ]
  },
  {
   "cell_type": "code",
   "execution_count": null,
   "metadata": {},
   "outputs": [],
   "source": [
    "y = TRAIN_fin['PD']\n",
    "X = TRAIN_fin.drop('PD',axis=1)"
   ]
  },
  {
   "cell_type": "code",
   "execution_count": null,
   "metadata": {},
   "outputs": [],
   "source": [
    "logistic_regression_model = LogisticRegression(penalty='l1',C=0.75,solver='saga',multi_class='multinomial')\n",
    "\n",
    "log_reg_model = logistic_regression_model.fit(X,y);\n",
    "print('Коэффициенты наклона бета =',log_reg_model.coef_[0,:])\n",
    "\n",
    "print('----------------------------------')\n",
    "Norm_vesa_log_reg_reg = abs(log_reg_model.coef_)/nm.repmat(sum(abs(log_reg_model.coef_[0,:])),1,np.size(log_reg_model.coef_))\n",
    "print(\"Нормированные веса для модели логистической регрессии с регуляризацией =\",Norm_vesa_log_reg_reg[0,:])\n",
    "\n",
    "print('----------------------------------')\n",
    "print('Коэффициент альфа =',log_reg_model.intercept_[0])"
   ]
  }
 ],
 "metadata": {
  "kernelspec": {
   "display_name": "Python 3 (ipykernel)",
   "language": "python",
   "name": "python3"
  },
  "language_info": {
   "codemirror_mode": {
    "name": "ipython",
    "version": 3
   },
   "file_extension": ".py",
   "mimetype": "text/x-python",
   "name": "python",
   "nbconvert_exporter": "python",
   "pygments_lexer": "ipython3",
   "version": "3.9.7"
  }
 },
 "nbformat": 4,
 "nbformat_minor": 2
}
